{
  "cells": [
    {
      "cell_type": "code",
      "execution_count": null,
      "metadata": {
        "colab": {
          "background_save": true,
          "base_uri": "https://localhost:8080/"
        },
        "id": "_WBnitcNs-GF",
        "outputId": "4b525706-929d-4b69-b567-70893dda8964"
      },
      "outputs": [
        {
          "name": "stdout",
          "output_type": "stream",
          "text": [
            "Requirement already satisfied: torch in /usr/local/lib/python3.10/dist-packages (2.2.1+cu121)\n",
            "Requirement already satisfied: torchvision in /usr/local/lib/python3.10/dist-packages (0.17.1+cu121)\n",
            "Requirement already satisfied: torchaudio in /usr/local/lib/python3.10/dist-packages (2.2.1+cu121)\n",
            "Requirement already satisfied: filelock in /usr/local/lib/python3.10/dist-packages (from torch) (3.13.4)\n",
            "Requirement already satisfied: typing-extensions>=4.8.0 in /usr/local/lib/python3.10/dist-packages (from torch) (4.11.0)\n",
            "Requirement already satisfied: sympy in /usr/local/lib/python3.10/dist-packages (from torch) (1.12)\n",
            "Requirement already satisfied: networkx in /usr/local/lib/python3.10/dist-packages (from torch) (3.3)\n",
            "Requirement already satisfied: jinja2 in /usr/local/lib/python3.10/dist-packages (from torch) (3.1.3)\n",
            "Requirement already satisfied: fsspec in /usr/local/lib/python3.10/dist-packages (from torch) (2023.6.0)\n",
            "Requirement already satisfied: nvidia-cuda-nvrtc-cu12==12.1.105 in /usr/local/lib/python3.10/dist-packages (from torch) (12.1.105)\n",
            "Requirement already satisfied: nvidia-cuda-runtime-cu12==12.1.105 in /usr/local/lib/python3.10/dist-packages (from torch) (12.1.105)\n",
            "Requirement already satisfied: nvidia-cuda-cupti-cu12==12.1.105 in /usr/local/lib/python3.10/dist-packages (from torch) (12.1.105)\n",
            "Requirement already satisfied: nvidia-cudnn-cu12==8.9.2.26 in /usr/local/lib/python3.10/dist-packages (from torch) (8.9.2.26)\n",
            "Requirement already satisfied: nvidia-cublas-cu12==12.1.3.1 in /usr/local/lib/python3.10/dist-packages (from torch) (12.1.3.1)\n",
            "Requirement already satisfied: nvidia-cufft-cu12==11.0.2.54 in /usr/local/lib/python3.10/dist-packages (from torch) (11.0.2.54)\n",
            "Requirement already satisfied: nvidia-curand-cu12==10.3.2.106 in /usr/local/lib/python3.10/dist-packages (from torch) (10.3.2.106)\n",
            "Requirement already satisfied: nvidia-cusolver-cu12==11.4.5.107 in /usr/local/lib/python3.10/dist-packages (from torch) (11.4.5.107)\n",
            "Requirement already satisfied: nvidia-cusparse-cu12==12.1.0.106 in /usr/local/lib/python3.10/dist-packages (from torch) (12.1.0.106)\n",
            "Requirement already satisfied: nvidia-nccl-cu12==2.19.3 in /usr/local/lib/python3.10/dist-packages (from torch) (2.19.3)\n",
            "Requirement already satisfied: nvidia-nvtx-cu12==12.1.105 in /usr/local/lib/python3.10/dist-packages (from torch) (12.1.105)\n",
            "Requirement already satisfied: triton==2.2.0 in /usr/local/lib/python3.10/dist-packages (from torch) (2.2.0)\n",
            "Requirement already satisfied: nvidia-nvjitlink-cu12 in /usr/local/lib/python3.10/dist-packages (from nvidia-cusolver-cu12==11.4.5.107->torch) (12.4.127)\n",
            "Requirement already satisfied: numpy in /usr/local/lib/python3.10/dist-packages (from torchvision) (1.25.2)\n",
            "Requirement already satisfied: pillow!=8.3.*,>=5.3.0 in /usr/local/lib/python3.10/dist-packages (from torchvision) (9.4.0)\n",
            "Requirement already satisfied: MarkupSafe>=2.0 in /usr/local/lib/python3.10/dist-packages (from jinja2->torch) (2.1.5)\n",
            "Requirement already satisfied: mpmath>=0.19 in /usr/local/lib/python3.10/dist-packages (from sympy->torch) (1.3.0)\n"
          ]
        }
      ],
      "source": [
        "!pip install torch torchvision torchaudio\n"
      ]
    },
    {
      "cell_type": "code",
      "execution_count": null,
      "metadata": {
        "colab": {
          "background_save": true,
          "base_uri": "https://localhost:8080/"
        },
        "id": "rgtLu_1xni4u",
        "outputId": "51dd4aed-9349-4203-cea6-5e5d6a750520"
      },
      "outputs": [
        {
          "name": "stdout",
          "output_type": "stream",
          "text": [
            "GPU available: False\n"
          ]
        }
      ],
      "source": [
        "import torch\n",
        "print(\"GPU available:\", torch.cuda.is_available())\n"
      ]
    },
    {
      "cell_type": "code",
      "execution_count": null,
      "metadata": {
        "colab": {
          "background_save": true,
          "base_uri": "https://localhost:8080/"
        },
        "id": "h76O7mddlQiR",
        "outputId": "0274b35e-f18d-47c8-e4dd-57619b919352"
      },
      "outputs": [
        {
          "name": "stdout",
          "output_type": "stream",
          "text": [
            "Requirement already satisfied: torchbnn in /usr/local/lib/python3.10/dist-packages (1.2)\n"
          ]
        }
      ],
      "source": [
        "pip install torchbnn"
      ]
    },
    {
      "cell_type": "code",
      "execution_count": null,
      "metadata": {
        "id": "AZoFtQ0xkwm0"
      },
      "outputs": [],
      "source": [
        "import numpy as np\n",
        "from sklearn import datasets\n",
        "import pandas as pd\n",
        "\n",
        "import torch\n",
        "import torch.nn as nn\n",
        "import torch.optim as optim\n",
        "\n",
        "import torchbnn as bnn"
      ]
    },
    {
      "cell_type": "code",
      "execution_count": null,
      "metadata": {
        "id": "--bwgaDSkwm5"
      },
      "outputs": [],
      "source": [
        "import matplotlib.pyplot as plt\n",
        "%matplotlib inline"
      ]
    },
    {
      "cell_type": "code",
      "execution_count": null,
      "metadata": {
        "colab": {
          "base_uri": "https://localhost:8080/"
        },
        "id": "Ke0HLnNSnGAh",
        "outputId": "95f531b4-f573-450a-cfd9-e75c87a1411e"
      },
      "outputs": [
        {
          "name": "stdout",
          "output_type": "stream",
          "text": [
            "Mounted at /content/drive\n"
          ]
        }
      ],
      "source": [
        "from google.colab import drive\n",
        "\n",
        "# Mount Google Drive\n",
        "drive.mount('/content/drive', force_remount = True)"
      ]
    },
    {
      "cell_type": "code",
      "execution_count": null,
      "metadata": {
        "id": "HVithQfqnMxp"
      },
      "outputs": [],
      "source": [
        "df = pd.read_csv('/content/drive/MyDrive/BNN/TensorSetNvsHL.csv')"
      ]
    },
    {
      "cell_type": "code",
      "execution_count": null,
      "metadata": {
        "colab": {
          "base_uri": "https://localhost:8080/"
        },
        "id": "DCxn8s6onZb5",
        "outputId": "21d47355-f99d-4973-eab1-26ed84e107b0"
      },
      "outputs": [
        {
          "name": "stdout",
          "output_type": "stream",
          "text": [
            "       N      T1/2\n",
            "0      6   0.11940\n",
            "1      6   0.17820\n",
            "2      8   0.00858\n",
            "3      7  13.74000\n",
            "4      8   0.02147\n",
            "..   ...       ...\n",
            "564  134   9.70000\n",
            "565  135   5.90000\n",
            "566  136  10.60000\n",
            "567  137   9.50000\n",
            "568  146   0.90000\n",
            "\n",
            "[569 rows x 2 columns]\n"
          ]
        }
      ],
      "source": [
        "print(df)"
      ]
    },
    {
      "cell_type": "code",
      "execution_count": null,
      "metadata": {
        "colab": {
          "base_uri": "https://localhost:8080/"
        },
        "id": "zZiQeVScnyBh",
        "outputId": "4855eec1-db00-41f4-b7ee-f3813dd5cb04"
      },
      "outputs": [
        {
          "name": "stdout",
          "output_type": "stream",
          "text": [
            "<class 'pandas.core.frame.DataFrame'>\n",
            "RangeIndex: 569 entries, 0 to 568\n",
            "Data columns (total 2 columns):\n",
            " #   Column  Non-Null Count  Dtype  \n",
            "---  ------  --------------  -----  \n",
            " 0   N       569 non-null    int64  \n",
            " 1   T1/2    569 non-null    float64\n",
            "dtypes: float64(1), int64(1)\n",
            "memory usage: 9.0 KB\n"
          ]
        }
      ],
      "source": [
        "df.info()"
      ]
    },
    {
      "cell_type": "code",
      "execution_count": null,
      "metadata": {
        "id": "_5MzsdLtncy6"
      },
      "outputs": [],
      "source": [
        "X = df['N']\n",
        "Y = df['T1/2']"
      ]
    },
    {
      "cell_type": "code",
      "execution_count": null,
      "metadata": {
        "colab": {
          "base_uri": "https://localhost:8080/"
        },
        "id": "jtgLyVTen0-5",
        "outputId": "c34893f1-492b-4a3a-fbc9-ad4b4419910a"
      },
      "outputs": [
        {
          "data": {
            "text/plain": [
              "N\n",
              "78     10\n",
              "80     10\n",
              "73      9\n",
              "79      9\n",
              "71      9\n",
              "       ..\n",
              "134     1\n",
              "135     1\n",
              "136     1\n",
              "137     1\n",
              "146     1\n",
              "Name: count, Length: 115, dtype: int64"
            ]
          },
          "execution_count": 11,
          "metadata": {},
          "output_type": "execute_result"
        }
      ],
      "source": [
        "df.N.value_counts()"
      ]
    },
    {
      "cell_type": "code",
      "execution_count": null,
      "metadata": {
        "id": "pMkXAWlvn47S"
      },
      "outputs": [],
      "source": [
        "import pandas as pd\n",
        "import torch\n",
        "from sklearn.preprocessing import StandardScaler, LabelEncoder\n",
        "from torch.utils.data import TensorDataset\n"
      ]
    },
    {
      "cell_type": "code",
      "execution_count": null,
      "metadata": {
        "id": "7PazWPz4dKJR"
      },
      "outputs": [],
      "source": [
        "data = df.values\n",
        "dataset = torch.tensor(data, dtype=torch.float32)\n"
      ]
    },
    {
      "cell_type": "code",
      "execution_count": null,
      "metadata": {
        "colab": {
          "base_uri": "https://localhost:8080/"
        },
        "id": "YSkPTpHQn-Xh",
        "outputId": "7ab3c943-457b-416b-c2be-fa74bc4b94bf"
      },
      "outputs": [
        {
          "name": "stdout",
          "output_type": "stream",
          "text": [
            "tensor([[6.0000e+00, 1.1940e-01],\n",
            "        [6.0000e+00, 1.7820e-01],\n",
            "        [8.0000e+00, 8.5800e-03],\n",
            "        ...,\n",
            "        [1.3600e+02, 1.0600e+01],\n",
            "        [1.3700e+02, 9.5000e+00],\n",
            "        [1.4600e+02, 9.0000e-01]]) torch.Size([569, 2])\n"
          ]
        }
      ],
      "source": [
        "print(dataset, dataset.shape)"
      ]
    },
    {
      "cell_type": "code",
      "execution_count": null,
      "metadata": {
        "id": "86J7d0UIoxHT"
      },
      "outputs": [],
      "source": [
        "import torch\n",
        "from sklearn.model_selection import train_test_split\n",
        "\n",
        "n_tensor = dataset[:, 0]\n",
        "thalf_tensor = dataset[:, 1]\n",
        "\n",
        "x_train, x_test, y_train, y_test = train_test_split(n_tensor, thalf_tensor, test_size=0.2, random_state=42)\n",
        "\n"
      ]
    },
    {
      "cell_type": "code",
      "execution_count": null,
      "metadata": {
        "colab": {
          "base_uri": "https://localhost:8080/"
        },
        "id": "5JCePINOpc1a",
        "outputId": "07d58436-3492-4ebf-9c30-babfb9710349"
      },
      "outputs": [
        {
          "name": "stdout",
          "output_type": "stream",
          "text": [
            "tensor([ 21.,  48.,  22.,  57.,  19.,  14.,  63.,  41.,  45.,  98.,  28.,  84.,\n",
            "         34.,  88.,  72.,  18.,   6., 132.,  70.,  63.,  53.,  15.,  78.,  59.,\n",
            "         29.,  49.,  81.,  11.,  75.,  61.,  98.,  82.,  89.,  54.,  50.,  85.,\n",
            "         21.,  83.,  20.,  28.,  55.,  32.,  58., 146.,  84.,  81.,  51.,  71.,\n",
            "         44.,  75.,  83.,  80.,  22., 102.,  44.,  96.,  56.,  39.,  36.,  79.,\n",
            "         45., 105.,  59.,  51.,  80.,  88.,  97.,  80.,  31.,  39.,  93.,   9.,\n",
            "        104.,  12.,  42.,  78.,  23.,  92.,  65., 106.,  62.,  65.,  23.,  54.,\n",
            "         15.,  79.,  63., 102.,  16.,  82.,  68.,  54.,  68.,  76.,  44.,  38.,\n",
            "        106., 119.,  93.,  43.,  17.,  30.,  68.,  42.,  79.,  70.,  24.,  96.,\n",
            "         14.,  10.,  65.,  25.,  60.,  95.,  68.,  91., 100.,  99.,  91.,  91.,\n",
            "        101.,  29.,  47.,  67.,  27.,  16., 104.,  77.,  72.,  66.,  10.,  33.,\n",
            "         19.,  56.,  61.,  78.,  71.,  16.,  22., 104.,  83.,   7.,  97.,  66.,\n",
            "         55.,  16.,  24.,  53.,  18.,  39.,  57., 103.,  43.,  85.,  64.,  44.,\n",
            "         91.,  26.,  60.,  40.,  63.,  90.,  52.,  42.,  73.,  66.,  88.,  63.,\n",
            "         32.,  78.,  27.,  80., 105.,  35.,  73.,  75.,  85.,  90.,  68.,  78.,\n",
            "         71.,  89.,  69.,  17.,  37.,  62.,  94.,  18.,  35.,  70.,  80.,  60.,\n",
            "         87.,  69.,  40.,  63.,  87.,  19.,  84.,  71.,  48.,  69.,  37.,  92.,\n",
            "         37.,  75.,  72.,  35.,  95.,  29.,  41.,  53.,  89.,  30.,  67.,  98.,\n",
            "         65.,  82.,  34.,  49.,  52.,  74.,  55.,  73.,  73.,  83.,  76.,  87.,\n",
            "         70.,  37.,  79.,  53.,  72.,  20.,  55.,  34.,  95.,  74.,  82.,  92.,\n",
            "         76.,  87.,  70.,  66.,  87.,  86.,  81.,  36.,  46.,  87.,  85.,  84.,\n",
            "         66.,  41.,  86.,  53.,  70.,  81.,  46.,  69.,  40.,  47.,  86.,  56.,\n",
            "         52.,  32.,  36.,  81.,  74.,  54.,  93.,  81.,  77.,  39., 129.,  59.,\n",
            "         98.,  91.,  31.,  91.,  80.,  37.,  83.,  18.,  40.,  24.,  58.,  25.,\n",
            "         56.,  45.,  90.,  41.,  11.,  16.,  14.,  41.,  40.,  89.,  78.,  83.,\n",
            "         51.,  96.,  30.,  18.,  54., 128.,  71.,  85.,  45.,  90.,  22.,  99.,\n",
            "         95.,  50.,  76.,  58.,  78.,  79.,  63.,  92.,   8.,  54.,  99.,  82.,\n",
            "         29.,  56.,  99.,  49.,  79.,  41.,  31.,  64.,  51.,  20.,  85.,  21.,\n",
            "         17.,  86.,  64.,  69.,  50.,  38.,  13.,  89.,  54.,  58.,  76.,  61.,\n",
            "         78.,  44.,  75.,  97.,  36.,  21.,  39.,  33., 107.,  10.,  69.,  74.,\n",
            "         23.,  64.,  13.,  39.,  21.,  77.,  46.,  94.,  52.,  79.,  67.,  19.,\n",
            "         96.,  68.,  56.,  51.,  49.,  67., 102.,  60., 130.,  88.,  90., 136.,\n",
            "         67.,  71.,  66.,  94.,  88.,  51.,  43.,  17.,  53.,  81.,  49.,  87.,\n",
            "         62.,  57.,  34.,  74.,   6.,  99.,  25.,  49.,  20.,  94.,  81.,  89.,\n",
            "         74.,  26.,  70.,  75.,  55.,  12.,  67.,  73.,  61.,  48., 133.,  86.,\n",
            "        127.,  90.,  57.,  48.,  93.,  96.,  25.,  92.,  61.,  14.,  65.,  86.,\n",
            "         42.,  64.,  50.,  83.,  82.,  92.,  73.,  72.,  35.,  32.,  80.,  27.,\n",
            "         85.,  72.,  50.,  84.,  37.,  13.,  24.,  35.,  58.,  84.,  31.])\n",
            "tensor([7.8000e-01, 2.6500e-02, 3.7600e-02, 1.2840e+00, 3.1900e-02, 1.6200e-02,\n",
            "        3.9600e-01, 1.5000e-02, 1.9900e-02, 2.3300e-01, 1.0000e-01, 1.6680e+00,\n",
            "        9.6000e-02, 4.2000e-01, 4.2000e-01, 5.7000e-03, 1.1940e-01, 2.4400e+01,\n",
            "        2.5000e-02, 4.9000e+00, 9.9700e-02, 1.9500e-02, 1.5900e-01, 7.0000e-02,\n",
            "        6.8000e-02, 3.3170e-01, 1.5100e-01, 6.1900e-01, 5.2900e-01, 7.3200e-01,\n",
            "        1.0100e-01, 5.2000e-02, 1.2000e-01, 5.3600e-02, 1.4450e-02, 5.1600e-01,\n",
            "        8.9400e-02, 4.1000e-02, 1.7400e-02, 4.0000e-01, 2.5500e-01, 4.6000e+00,\n",
            "        1.5200e-01, 9.0000e-01, 1.6200e-01, 5.3500e-01, 4.3550e-02, 1.0000e-01,\n",
            "        1.5870e+00, 6.9200e-02, 8.3000e-02, 8.5000e-02, 4.5000e-01, 2.5300e+00,\n",
            "        8.0000e-02, 1.4000e-01, 1.8410e+00, 9.0000e-02, 5.8000e-02, 8.4000e-01,\n",
            "        1.5980e+00, 2.0000e-01, 2.0160e-01, 4.0300e+00, 8.9100e-02, 1.8200e-01,\n",
            "        4.4400e-01, 2.4610e-01, 8.2000e+00, 1.2900e-01, 3.5200e-01, 1.2360e-02,\n",
            "        8.0000e-01, 3.3600e-01, 2.0300e-01, 5.1400e-01, 1.1300e-02, 6.1700e-01,\n",
            "        6.6600e-01, 1.2350e+00, 4.3200e-01, 5.3000e-02, 5.0000e-03, 1.5100e+00,\n",
            "        9.7000e-02, 1.0260e-01, 9.8000e-01, 1.4300e+00, 3.0000e-01, 2.6500e-02,\n",
            "        2.0500e-02, 9.1900e-02, 7.8500e-02, 2.2000e-02, 2.5800e-02, 2.2200e-02,\n",
            "        3.7500e-01, 2.2000e+00, 5.1000e-01, 1.1300e-01, 8.2000e-03, 1.2400e+01,\n",
            "        2.8700e-01, 7.5000e-01, 6.4100e-02, 5.4000e-02, 5.8000e-03, 5.9000e-02,\n",
            "        2.2500e+00, 4.1710e+00, 3.7000e-02, 8.2000e-03, 6.5300e-01, 8.1000e-02,\n",
            "        3.3500e-02, 3.2170e-01, 9.9000e-02, 8.4000e-02, 9.4000e-02, 1.8800e-01,\n",
            "        6.3000e-01, 2.3200e-01, 3.1400e-02, 9.1100e-01, 6.5000e-01, 1.3950e-02,\n",
            "        1.3300e+00, 3.0000e-02, 3.2000e-02, 5.3000e-02, 4.5300e-03, 5.2600e-01,\n",
            "        4.9400e-02, 2.9000e-02, 1.1500e-01, 2.2000e-02, 9.0000e-02, 6.2000e-03,\n",
            "        8.1000e-03, 5.1300e+00, 1.4200e+00, 1.3740e+01, 1.1300e-01, 8.9000e-01,\n",
            "        1.0320e-01, 7.2000e-02, 1.8000e-03, 9.4400e-01, 1.8900e-02, 1.1200e+00,\n",
            "        2.7000e-01, 1.2850e+00, 5.0800e-01, 9.2400e-01, 2.9100e+00, 4.2000e+00,\n",
            "        8.9400e-01, 7.6000e-03, 1.4780e+00, 3.2900e-01, 3.0000e-01, 1.4700e-01,\n",
            "        2.8500e-02, 4.7000e-02, 4.4000e-01, 1.7500e-01, 7.0000e-02, 1.3800e+00,\n",
            "        3.6500e-01, 1.0400e+00, 2.0000e-02, 6.0700e-01, 7.5000e-01, 6.9000e-02,\n",
            "        9.4000e-01, 1.3300e-01, 1.2100e-01, 5.8200e-01, 1.1300e-01, 4.2200e-02,\n",
            "        5.7000e-01, 2.3500e-01, 3.0500e-01, 2.8900e-02, 2.3400e-01, 4.3000e-02,\n",
            "        2.5800e-01, 6.4400e-01, 2.2000e-02, 1.2500e-01, 1.5000e-02, 1.6900e-01,\n",
            "        2.2100e-01, 3.0000e-02, 9.1900e-02, 5.1000e-02, 5.9000e-01, 1.4000e-02,\n",
            "        8.4000e-02, 2.4000e-02, 4.6980e-01, 9.4000e-02, 9.2000e-02, 1.4600e-01,\n",
            "        6.7100e-01, 2.9000e-01, 2.0300e-01, 9.8000e-02, 2.3000e+00, 1.2300e+00,\n",
            "        2.8000e-02, 1.6290e+01, 9.8900e-01, 4.2400e-01, 6.9200e-01, 1.4900e+00,\n",
            "        2.1200e-01, 3.2000e-01, 2.0000e-01, 1.6000e-02, 7.3200e-02, 2.3000e-02,\n",
            "        8.5700e+00, 9.2000e-01, 2.8600e-01, 2.0130e-01, 7.3000e-02, 1.6870e+00,\n",
            "        5.4300e-01, 2.8500e-02, 3.1500e-02, 4.9700e-01, 7.8000e-02, 8.6000e-02,\n",
            "        4.9200e-02, 3.4700e-01, 8.6500e-01, 9.9000e-02, 1.5800e-01, 9.3000e-02,\n",
            "        4.5000e-02, 8.6000e-02, 1.0300e+00, 1.0550e-01, 3.2200e-01, 5.0600e-01,\n",
            "        1.9000e-02, 1.1000e-02, 4.0700e-02, 7.2400e-01, 6.4000e-02, 3.5000e-02,\n",
            "        2.8700e-01, 6.3900e-02, 3.6100e-01, 5.6500e+00, 3.7500e-02, 3.8000e-02,\n",
            "        1.9000e-02, 7.5000e-02, 1.9600e-02, 6.3700e-01, 9.7000e-02, 5.8500e+00,\n",
            "        1.4100e+01, 2.4000e+00, 2.2000e-02, 5.3500e-01, 4.9200e-01, 2.2200e-01,\n",
            "        1.5110e-01, 1.5200e-01, 2.1000e-02, 1.5000e-02, 7.8000e+01, 2.3200e+00,\n",
            "        3.0400e-01, 1.3400e+00, 1.0000e+01, 7.2000e-02, 6.7500e-02, 1.2200e-01,\n",
            "        6.7500e-01, 4.3600e-02, 4.9600e-01, 1.0700e-02, 1.3800e-01, 2.6000e+00,\n",
            "        5.4400e-01, 8.4200e-01, 1.8200e-01, 3.9500e-01, 1.9100e-01, 1.9500e-01,\n",
            "        2.2300e+00, 1.9900e-01, 4.2900e-02, 5.0000e-01, 3.6180e+00, 9.9700e+00,\n",
            "        1.8500e+00, 7.2200e-01, 1.0100e-01, 3.1700e-01, 4.3380e+00, 1.2972e+02,\n",
            "        7.6000e-02, 6.2510e+00, 4.7800e-02, 3.8800e-01, 3.5000e-03, 1.8100e-01,\n",
            "        2.8950e-01, 5.6190e-01, 3.0000e-01, 1.1700e+00, 2.5000e-02, 5.2000e-02,\n",
            "        3.7000e-02, 1.0910e+00, 2.1470e-02, 5.7900e+01, 7.2500e-01, 2.6600e-01,\n",
            "        6.8300e+00, 6.0800e-02, 1.7500e-01, 1.3000e+00, 1.9000e-02, 1.6000e+00,\n",
            "        2.3600e-01, 2.3600e-01, 6.0100e-01, 4.1700e-02, 2.4500e-02, 1.3300e-02,\n",
            "        2.2000e-03, 6.5000e-02, 3.1500e-02, 2.0000e-01, 2.4130e-01, 4.8300e-02,\n",
            "        4.2300e+00, 5.1100e-01, 4.8400e-01, 3.7800e-01, 1.9500e-01, 9.4000e-01,\n",
            "        1.0870e+00, 6.1400e-02, 2.0000e-01, 3.1300e-01, 4.9200e-01, 5.6300e-02,\n",
            "        3.3500e-02, 2.1600e-01, 3.2000e+00, 1.0180e-02, 1.8600e-01, 4.4500e-02,\n",
            "        9.4000e-02, 9.2000e-01, 4.6200e-02, 8.0500e-01, 3.4000e-03, 1.1100e-01,\n",
            "        5.0770e-01, 1.0700e-01, 3.1000e-01, 3.6000e-01, 3.9000e-02, 2.3600e-01,\n",
            "        1.4700e+00, 2.9400e-01, 2.1000e-01, 2.9900e-01, 1.9000e+00, 8.4500e-02,\n",
            "        4.3000e-01, 8.0000e-02, 8.0000e+01, 3.5100e-01, 1.0300e-01, 1.0600e+01,\n",
            "        1.5000e-01, 3.1800e-01, 2.5000e-02, 8.5000e-02, 1.4800e-01, 1.1330e-01,\n",
            "        1.6200e-01, 3.2200e-02, 9.5200e-02, 6.5900e-02, 1.5865e-01, 1.7280e+00,\n",
            "        1.3600e+00, 2.7040e+00, 3.0000e-02, 7.7700e-01, 1.7820e-01, 4.9450e-01,\n",
            "        1.4900e-01, 7.4600e-01, 2.6700e-03, 4.6300e-01, 2.7500e-01, 1.7000e-01,\n",
            "        1.8900e-01, 3.1750e+00, 1.5200e-01, 3.0000e-02, 1.9110e+00, 9.2000e-02,\n",
            "        1.9200e-01, 1.5200e+00, 2.6900e-01, 5.9500e-03, 1.1000e+01, 2.4910e+01,\n",
            "        4.7000e+01, 4.0730e+00, 3.3400e-01, 2.3470e-01, 9.4000e-02, 2.4500e-01,\n",
            "        8.0000e-03, 8.9700e-02, 6.2100e-02, 8.4800e-02, 1.0840e+00, 1.4600e+00,\n",
            "        1.8800e-01, 7.2000e-02, 1.2220e-01, 3.1000e-02, 1.2870e-01, 2.2950e-01,\n",
            "        5.7000e-02, 4.0000e-02, 1.9000e-01, 1.0600e-01, 2.6500e-02, 2.7300e-01,\n",
            "        2.5000e+00, 5.8000e-02, 1.2170e+00, 2.4590e+01, 1.2000e-02, 1.3600e-01,\n",
            "        9.5000e-02, 1.0000e-02, 1.0690e+00, 1.6700e-01, 4.7200e-01])\n",
            "tensor([ 48.,  23.,  36.,  82., 103., 137.,  77.,  15.,  26.,  88.,  84.,  39.,\n",
            "         47.,  71., 101.,  28.,  97., 130.,  30., 100.,  26.,  77.,  77.,  80.,\n",
            "         69.,  21.,  82., 129.,  71.,  25., 107.,  40.,  80., 102.,  52.,  22.,\n",
            "         14.,  58.,   8.,  30.,  33.,  73.,  79.,  48.,  63.,  33.,  94., 131.,\n",
            "        101.,  59.,  61.,  16.,  52.,  98.,  36.,  91.,  71.,  27.,  20.,  59.,\n",
            "         24.,   8., 134.,  89.,  76.,  52.,  35.,  23.,  47.,  73.,  46.,  10.,\n",
            "         78.,  45., 101.,  93.,  55.,  64.,  42.,  78.,  37.,  75.,  26.,  59.,\n",
            "         62.,  55.,  12.,  86.,  80.,  73.,  29., 100.,  95., 131.,  74.,  34.,\n",
            "        135.,  53.,  43.,  84.,  49.,  38.,  22.,  79., 105., 100.,  45.,  98.,\n",
            "         38.,  88.,  28.,  58.,  52.,  62.])\n",
            "tensor([1.4700e+00, 9.4000e-02, 9.2000e-02, 3.3000e-01, 9.8000e-01, 9.5000e+00,\n",
            "        5.2300e-02, 3.8200e-01, 1.0100e-01, 1.2220e+00, 1.7670e+01, 2.0900e-01,\n",
            "        1.2900e-02, 8.0000e-02, 1.7000e-01, 3.6500e-02, 1.6100e-01, 6.4000e+01,\n",
            "        1.2630e+00, 1.0500e+00, 3.3000e-02, 1.4400e-01, 1.9100e-01, 6.2000e-01,\n",
            "        5.6000e-02, 5.7000e+00, 3.6000e-02, 6.0000e+00, 6.9000e-01, 4.7500e-02,\n",
            "        7.6000e-01, 4.2900e-01, 1.1650e+00, 3.1000e-01, 9.5200e-01, 2.0000e-02,\n",
            "        2.9200e-03, 3.7400e+00, 1.7160e-02, 5.0000e-02, 1.1000e-01, 1.5200e-01,\n",
            "        7.2000e-01, 2.8520e+00, 1.1500e-01, 4.6100e-01, 4.2900e+00, 2.6400e+01,\n",
            "        2.1500e-01, 5.4800e-01, 9.6000e-02, 7.5000e-02, 1.7790e-01, 8.0950e-01,\n",
            "        7.0900e-01, 1.2000e-01, 3.8000e-02, 4.8500e-02, 7.3900e-03, 4.2900e-01,\n",
            "        2.0400e-01, 8.5800e-03, 9.7000e+00, 1.9300e-01, 2.0500e-02, 2.0230e+00,\n",
            "        3.1000e-02, 6.1000e-01, 3.3180e-01, 4.5500e-02, 1.2240e+00, 7.5460e-01,\n",
            "        1.7600e-01, 5.1500e-02, 1.2500e+00, 8.9000e-02, 4.4000e-01, 1.1000e-02,\n",
            "        2.3000e-02, 9.4000e-02, 4.0000e-02, 2.2000e-02, 1.0300e+00, 1.1400e-01,\n",
            "        2.0070e-01, 4.5000e+00, 5.0800e-03, 2.2800e+00, 4.8800e-02, 1.7000e-02,\n",
            "        1.8500e-02, 1.3400e-01, 1.6700e-01, 3.4000e+01, 3.2000e-02, 1.0700e-01,\n",
            "        5.9000e+00, 3.2750e-02, 3.5200e-02, 9.0200e-01, 2.2500e-02, 2.0000e-01,\n",
            "        2.3100e+00, 4.7000e-01, 9.6000e-01, 4.3900e-01, 3.5000e-02, 5.3000e-02,\n",
            "        2.7600e-01, 1.7950e+00, 1.2500e-02, 2.1100e-01, 5.5640e+01, 5.7800e-02])\n"
          ]
        }
      ],
      "source": [
        "print(x_train)\n",
        "print(y_train)\n",
        "print(x_test)\n",
        "print(y_test)"
      ]
    },
    {
      "cell_type": "code",
      "execution_count": null,
      "metadata": {
        "colab": {
          "base_uri": "https://localhost:8080/"
        },
        "id": "DT4vv4v0jOco",
        "outputId": "2592e0f0-b395-4b86-e446-c630de3e0d21"
      },
      "outputs": [
        {
          "name": "stdout",
          "output_type": "stream",
          "text": [
            "torch.Size([455])\n",
            "torch.Size([455])\n",
            "torch.Size([114])\n",
            "torch.Size([114])\n"
          ]
        }
      ],
      "source": [
        "print(x_train.shape)\n",
        "print(y_train.shape)\n",
        "print(x_test.shape)\n",
        "print(y_test.shape)"
      ]
    },
    {
      "cell_type": "code",
      "execution_count": null,
      "metadata": {
        "colab": {
          "base_uri": "https://localhost:8080/",
          "height": 430
        },
        "id": "Jh4a2yrLkwm7",
        "outputId": "9b875683-7d3a-4351-cebf-9b04c8503282"
      },
      "outputs": [
        {
          "data": {
            "image/png": "[encoded data removed]",
            "text/plain": [
              "<Figure size 640x480 with 1 Axes>"
            ]
          },
          "metadata": {},
          "output_type": "display_data"
        }
      ],
      "source": [
        "x = x_train\n",
        "y = y_train\n",
        "x = torch.unsqueeze(x, dim=1)\n",
        "y = torch.unsqueeze(y, dim=1)\n",
        "\n",
        "plt.scatter(x.data.numpy(), y.data.numpy())\n",
        "plt.show()"
      ]
    },
    {
      "cell_type": "code",
      "execution_count": null,
      "metadata": {
        "id": "Xj98ACYGkwm8"
      },
      "outputs": [],
      "source": [
        "model = nn.Sequential(\n",
        "    bnn.BayesLinear(prior_mu=0, prior_sigma=0.1, in_features=1, out_features=100),\n",
        "    nn.ReLU(),\n",
        "    bnn.BayesLinear(prior_mu=0, prior_sigma=0.1, in_features=100, out_features=1),\n",
        ")"
      ]
    },
    {
      "cell_type": "code",
      "execution_count": null,
      "metadata": {
        "id": "jKs_iXaYkwm9"
      },
      "outputs": [],
      "source": [
        "mse_loss = nn.MSELoss()\n",
        "kl_loss = bnn.BKLLoss(reduction='mean', last_layer_only=False)\n",
        "\n",
        "optimizer = optim.Adam(model.parameters(), lr=0.0009998)"
      ]
    },
    {
      "cell_type": "code",
      "execution_count": null,
      "metadata": {
        "id": "SV1b1akAkwm_"
      },
      "outputs": [],
      "source": [
        "kl_weight = 0.0099"
      ]
    },
    {
      "cell_type": "code",
      "execution_count": null,
      "metadata": {
        "id": "ao2E1d0oswNG"
      },
      "outputs": [],
      "source": [
        "x_train = torch.unsqueeze(x_train, dim=1)\n",
        "y_train = torch.unsqueeze(y_train, dim=1)\n",
        "\n",
        "for step in range(1000):\n",
        "    pre = model(x_train)\n",
        "    mse = mse_loss(pre, y_train)\n",
        "    kl = kl_loss(model)\n",
        "    cost = mse + kl_weight * kl\n",
        "\n",
        "    optimizer.zero_grad()\n",
        "    cost.backward()\n",
        "    optimizer.step()\n"
      ]
    },
    {
      "cell_type": "code",
      "execution_count": null,
      "metadata": {
        "colab": {
          "base_uri": "https://localhost:8080/"
        },
        "id": "Z-CAkhtltQjG",
        "outputId": "8b163d3a-76e8-47a1-86ee-4173d14f8dd5"
      },
      "outputs": [
        {
          "name": "stdout",
          "output_type": "stream",
          "text": [
            "- MSE : 190.92, KL : 6.49\n"
          ]
        }
      ],
      "source": [
        "print('- MSE : %2.2f, KL : %2.2f' % (mse.item(), kl.item()))"
      ]
    },
    {
      "cell_type": "code",
      "execution_count": null,
      "metadata": {
        "colab": {
          "base_uri": "https://localhost:8080/",
          "height": 455
        },
        "id": "0ebJtcnMr38V",
        "outputId": "eb818566-89b6-4baf-c4c3-27f3e1811a4d"
      },
      "outputs": [
        {
          "data": {
            "image/png": "[encoded data removed]",
            "text/plain": [
              "<Figure size 640x480 with 1 Axes>"
            ]
          },
          "metadata": {},
          "output_type": "display_data"
        }
      ],
      "source": [
        "x_test = torch.unsqueeze(x_test, dim=1)\n",
        "y_test = torch.unsqueeze(y_test, dim=1)\n",
        "\n",
        "plt.xlabel(r'$x$')\n",
        "plt.ylabel(r'$y$')\n",
        "\n",
        "plt.scatter(x_test.data.numpy(), y_test.data.numpy(), color='k', s=2)\n",
        "\n",
        "y_predict = model(x_test)\n",
        "plt.plot(x_test.data.numpy(), y_predict.data.numpy(), 'r-', linewidth=5, label='First Prediction')\n",
        "\n",
        "y_predict = model(x_test)\n",
        "plt.plot(x_test.data.numpy(), y_predict.data.numpy(), 'b-', linewidth=5, label='Second Prediction')\n",
        "\n",
        "y_predict = model(x_test)\n",
        "plt.plot(x_test.data.numpy(), y_predict.data.numpy(), 'g-', linewidth=5, label='Third Prediction')\n",
        "\n",
        "plt.legend()\n",
        "\n",
        "plt.show()\n"
      ]
    },
    {
      "cell_type": "markdown",
      "metadata": {
        "id": "fLZbqgeMqnvb"
      },
      "source": [
        "###in the above graph, the red line is the closest fit and the area between the blue and green lines are the further predictions considering the outliers. unfortunately i couldnt colour inside that area like it was mentioned in the paper\n"
      ]
    },
    {
      "cell_type": "code",
      "execution_count": null,
      "metadata": {
        "colab": {
          "base_uri": "https://localhost:8080/"
        },
        "id": "zS_5LURgnnad",
        "outputId": "b62be93b-c4dc-42c5-f0d7-82c890ce7dfe"
      },
      "outputs": [
        {
          "name": "stdout",
          "output_type": "stream",
          "text": [
            "torch saving...\n"
          ]
        }
      ],
      "source": [
        "print('torch saving...')"
      ]
    },
    {
      "cell_type": "code",
      "execution_count": null,
      "metadata": {
        "id": "MgP4FRHnpy43"
      },
      "outputs": [],
      "source": [
        "torch.save(model.state_dict(), '/content/drive/MyDrive/BNN/BayesianNeuralNetwork.pth')"
      ]
    },
    {
      "cell_type": "code",
      "execution_count": null,
      "metadata": {
        "id": "Hs8yELRAqXpX"
      },
      "outputs": [],
      "source": []
    }
  ],
  "metadata": {
    "colab": {
      "provenance": []
    },
    "kernelspec": {
      "display_name": "Python 3",
      "name": "python3"
    },
    "language_info": {
      "codemirror_mode": {
        "name": "ipython",
        "version": 3
      },
      "file_extension": ".py",
      "mimetype": "text/x-python",
      "name": "python",
      "nbconvert_exporter": "python",
      "pygments_lexer": "ipython3",
      "version": "3.6.5"
    }
  },
  "nbformat": 4,
  "nbformat_minor": 0
}